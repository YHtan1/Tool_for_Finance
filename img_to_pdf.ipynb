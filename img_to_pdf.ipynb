{
 "cells": [
  {
   "cell_type": "code",
   "execution_count": null,
   "metadata": {},
   "outputs": [],
   "source": [
    "#this program runs a python script to convert images to pdf"
   ]
  },
  {
   "cell_type": "code",
   "execution_count": 189,
   "metadata": {},
   "outputs": [],
   "source": [
    "#import required libraries\n",
    "from PIL import Image\n",
    "import tkinter as tk\n",
    "import tkinter.font as tkFont"
   ]
  },
  {
   "cell_type": "code",
   "execution_count": 190,
   "metadata": {},
   "outputs": [],
   "source": [
    "#function to convert image to pdf\n",
    "def convert(filepath):\n",
    "    if filepath.endswith(\".jpg\") or filepath.endswith(\".png\"):\n",
    "        #convert image to pdf\n",
    "        image=Image.open(filepath)\n",
    "        image_conv=image.convert('RGB')\n",
    "        image_conv.save(filepath +'.pdf')\n",
    "        #change conversion status to success\n",
    "        output.delete(\"1.0\",tk.END)\n",
    "        output.insert(tk.END,\"Image converted to pdf!\")\n",
    "        \n",
    "    else:\n",
    "        #change conversion status to failure\n",
    "        output.delete(\"1.0\",tk.END)\n",
    "        output.insert(tk.END,\"PLEASE check the image path!!!\")\n",
    "\n",
    "def convert_image():\n",
    "    filepath=r\"{}\".format(txtbox.get())\n",
    "    window.after(0,convert(filepath))"
   ]
  },
  {
   "cell_type": "code",
   "execution_count": 191,
   "metadata": {},
   "outputs": [],
   "source": [
    "#create window for input\n",
    "window=tk.Tk()\n",
    "window.title(\"\")\n",
    "\n",
    "#create a label widget\n",
    "#set custom font \n",
    "font=tkFont.Font(family=\"Helvetica\", size=20,weight=\"bold\")\n",
    "l1=tk.Label(window, text=\"Image to PDF converter\", font=font)\n",
    "\n",
    "#set location of label\n",
    "l1.place(relx=0.5,rely=0.02,anchor='c')\n",
    "\n",
    "#create a entry widget to take file path\n",
    "l2=tk.Label(window, text=\"Enter Image Path: \",font=\"20\")\n",
    "l2.place(relx=0.34,rely=0.1,anchor='c')\n",
    "\n",
    "#create text box for user to enter file path\n",
    "txtbox=tk.Entry(window,width=50)\n",
    "txtbox.place(relx=0.5,rely=0.15,anchor='c')\n",
    "#extract file path from entry widget\n",
    "filepath=r\"{}\".format(txtbox.get())\n",
    "\n",
    "#create a button to run program\n",
    "btn=tk.Button(window, text=\"Convert\",font=\"20\",command=convert_image)\n",
    "btn.place(relx=0.5,rely=0.22,anchor='c')\n",
    "\n",
    "#output conversion status\n",
    "output=tk.Text(window,width=30,height=1,font=font)\n",
    "output.insert(tk.END,\"Conversion in Progress...\")\n",
    "output.place(relx=0.5,rely=0.32,anchor='c')\n",
    "\n",
    "\n",
    "#set window size\n",
    "window.geometry('1000x800')\n",
    "window.mainloop()"
   ]
  }
 ],
 "metadata": {
  "kernelspec": {
   "display_name": "ml_win_old",
   "language": "python",
   "name": "python3"
  },
  "language_info": {
   "codemirror_mode": {
    "name": "ipython",
    "version": 3
   },
   "file_extension": ".py",
   "mimetype": "text/x-python",
   "name": "python",
   "nbconvert_exporter": "python",
   "pygments_lexer": "ipython3",
   "version": "3.9.19"
  }
 },
 "nbformat": 4,
 "nbformat_minor": 2
}
